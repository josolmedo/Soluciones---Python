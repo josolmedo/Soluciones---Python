{
  "nbformat": 4,
  "nbformat_minor": 0,
  "metadata": {
    "colab": {
      "provenance": []
    },
    "kernelspec": {
      "name": "python3",
      "display_name": "Python 3"
    },
    "language_info": {
      "name": "python"
    }
  },
  "cells": [
    {
      "cell_type": "code",
      "execution_count": 7,
      "metadata": {
        "colab": {
          "base_uri": "https://localhost:8080/"
        },
        "id": "g3MnBUiOadMh",
        "outputId": "01508817-c8c7-4e3d-8a68-4871be647f3f"
      },
      "outputs": [
        {
          "output_type": "stream",
          "name": "stdout",
          "text": [
            "[68, 65, 86, 73, 68]\n",
            "['D', 'A', 'V', 'I', 'D']\n",
            "\n",
            "Ingresa el texto: Jose Angel Olmedo Guevara\n",
            "El texto en codigo ASCII es: \n"
          ]
        },
        {
          "output_type": "execute_result",
          "data": {
            "text/plain": [
              "[74,\n",
              " 111,\n",
              " 115,\n",
              " 101,\n",
              " 32,\n",
              " 65,\n",
              " 110,\n",
              " 103,\n",
              " 101,\n",
              " 108,\n",
              " 32,\n",
              " 79,\n",
              " 108,\n",
              " 109,\n",
              " 101,\n",
              " 100,\n",
              " 111,\n",
              " 32,\n",
              " 71,\n",
              " 117,\n",
              " 101,\n",
              " 118,\n",
              " 97,\n",
              " 114,\n",
              " 97]"
            ]
          },
          "metadata": {},
          "execution_count": 7
        }
      ],
      "source": [
        "#Realizado por José Ángel Olmedo Guevara\n",
        "\n",
        "def convertidor(cadena):\n",
        "  conversion = []\n",
        "  for elemento in cadena:\n",
        "    if type(elemento)==int:\n",
        "      conversion.append(chr(elemento))\n",
        "    else:\n",
        "      conversion.append(ord(elemento))\n",
        "  return conversion\n",
        "\n",
        "cadena_1 = ['D', 'A', 'V', 'I', 'D']\n",
        "cadena_2 = [68, 65, 86, 73, 68]\n",
        "\n",
        "print(convertidor(cadena_1))\n",
        "print(convertidor(cadena_2))\n",
        "print(\"\")\n",
        "\n",
        "\n",
        "texto=input(\"Ingresa el texto: \")\n",
        "print(\"El texto en codigo ASCII es: \")\n",
        "convertidor(texto)"
      ]
    }
  ]
}